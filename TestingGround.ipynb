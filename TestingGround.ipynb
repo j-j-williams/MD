{
 "cells": [
  {
   "cell_type": "code",
   "execution_count": 11,
   "metadata": {
    "collapsed": true
   },
   "outputs": [
    {
     "name": "stdout",
     "output_type": "stream",
     "text": [
      "[[ 0  1  2  3  4]\n",
      " [ 5  6  7  8  9]\n",
      " [10 11 12 13 14]]\n"
     ]
    }
   ],
   "source": [
    "import numpy as np\n",
    "\n",
    "a = np.arange(15)\n",
    "a = a.reshape(3,5)\n",
    "print(a)"
   ]
  },
  {
   "cell_type": "code",
   "execution_count": 12,
   "metadata": {
    "collapsed": true
   },
   "outputs": [
    {
     "name": "stdout",
     "output_type": "stream",
     "text": [
      "Create an array with values in the range from 0 to 14 using \"a = np.arange(15)\".\n",
      "Arrange comes from the numpy library, which we imported as np, so the header \"np.\" is required.\n",
      "[ 0  1  2  3  4  5  6  7  8  9 10 11 12 13 14]\n",
      "\n",
      "Reshape the array using \"a = a.reshape(3,5)\".\n",
      "[[ 0  1  2  3  4]\n",
      " [ 5  6  7  8  9]\n",
      " [10 11 12 13 14]]\n",
      "\n",
      "Python indexes from 0, so to access the value located in the third row, second column, we can do \"a[3-1,2-1]\".\n",
      "11\n",
      "\n",
      "However, to access the same value more elegantly, we should just do \"a[2,1]\".\n",
      "11\n",
      "The output is the same, of course.\n",
      "\n",
      "What is the shape of this array? Use \"a.shape\"\n",
      "(3, 5)\n",
      "\n",
      "How many dimensions does this array have? Use \"a.ndim\".\n",
      "2\n",
      "\n"
     ]
    }
   ],
   "source": [
    "import numpy as np\n",
    "\n",
    "print('Create an array with values in the range from 0 to 14 using \"a = np.arange(15)\".')\n",
    "a = np.arange(15)\n",
    "print('Arrange comes from the numpy library, which we imported as np, '\n",
    "    'so the header \"np.\" is required.')\n",
    "print(a)\n",
    "print()\n",
    "\n",
    "print('Reshape the array using \"a = a.reshape(3,5)\".')\n",
    "a = a.reshape(3,5)\n",
    "print(a)\n",
    "print()\n",
    "\n",
    "print('Python indexes from 0, so to access the value located in the third row, second column, we can do \"a[3-1,2-1]\".')\n",
    "print(a[3-1,2-1])\n",
    "print()\n",
    "\n",
    "print('However, to access the same value more elegantly, we should just do \"a[2,1]\".')\n",
    "print(a[2,1])\n",
    "print('The output is the same, of course.')\n",
    "print()\n",
    "\n",
    "print('What is the shape of this array? Use \"a.shape\"')\n",
    "print(a.shape)\n",
    "print()\n",
    "\n",
    "print('How many dimensions does this array have? Use \"a.ndim\".')\n",
    "print(a.ndim)\n",
    "print()\n"
   ]
  },
  {
   "cell_type": "code",
   "execution_count": 13,
   "metadata": {
    "collapsed": true
   },
   "outputs": [
    {
     "name": "stdout",
     "output_type": "stream",
     "text": [
      "1\n",
      "[ 1  2  3  4  5  6  7  8  9 10]\n",
      "\n",
      "2\n",
      "[ 2  3  4  5  6  7  8  9 10 11]\n",
      "\n",
      "3\n",
      "[ 3  4  5  6  7  8  9 10 11 12]\n",
      "\n",
      "4\n",
      "[ 4  5  6  7  8  9 10 11 12 13]\n",
      "\n",
      "[1 2 3 4]\n",
      "[0 1 2 3 4 5 6 7 8 9]\n"
     ]
    }
   ],
   "source": [
    "b = np.array([1,2,3,4])\n",
    "c = np.arange(10)\n",
    "for i in b:\n",
    "    #if()\n",
    "    print(i)\n",
    "    print(i+c)\n",
    "    print()\n",
    "\n",
    "print(b)\n",
    "print(c)"
   ]
  },
  {
   "cell_type": "code",
   "execution_count": 70,
   "metadata": {
    "collapsed": true
   },
   "outputs": [
    {
     "name": "stdout",
     "output_type": "stream",
     "text": [
      "Creating an array with 9 evenly-spaced numbers inclusively from 0 to 2 \n",
      "[ 0.    0.25  0.5   0.75  1.    1.25  1.5   1.75  2.  ]\n"
     ]
    }
   ],
   "source": [
    "print('Creating an array with 9 evenly-spaced numbers inclusively from 0 to 2 ')\n",
    "d = np.linspace( 0, 2, 9 )\n",
    "print(d)\n"
   ]
  },
  {
   "cell_type": "code",
   "execution_count": 38,
   "metadata": {
    "collapsed": true
   },
   "outputs": [
    {
     "name": "stdout",
     "output_type": "stream",
     "text": [
      "We have  5  particles.\n",
      "\n",
      "Positions are:\n",
      "[ 0.5  0.7  0.9  1.3  2.2]\n",
      "5.6\n",
      "\n",
      "\n",
      "Momenta are:\n",
      "[[ 12  17  13  25   4]\n",
      " [ 11  16  10   5  41]\n",
      " [  2   7 123   5  24]]\n"
     ]
    },
    {
     "data": {
      "text/plain": [
       "array([ 25,  40, 146,  35,  69])"
      ]
     },
     "execution_count": 38,
     "metadata": {},
     "output_type": "execute_result"
    }
   ],
   "source": [
    "import numpy as np\n",
    "n=5\n",
    "print('We have ', n, ' particles.')\n",
    "print()\n",
    "posn = np.array([0.5,0.7,0.9,1.3,2.2])\n",
    "print('Positions are:')\n",
    "print(posn)\n",
    "print(sum(posn))\n",
    "print()\n",
    "print()\n",
    "momt = np.array([(12,17,13,25,4),(11,16,10,5,41),(2,7,123,5,24)])\n",
    "print('Momenta are:')\n",
    "print(momt)\n",
    "sum(momt, axis=0)"
   ]
  },
  {
   "cell_type": "code",
   "execution_count": 71,
   "metadata": {},
   "outputs": [
    {
     "name": "stdout",
     "output_type": "stream",
     "text": [
      "The size of momt is 15 .\n",
      "Given that we have 5 particles, we must have 3.0 points in time.\n",
      "The dim of momt is 2 .\n",
      "The shape of momt is (3, 5) .\n",
      "The size of momt is 15 .\n"
     ]
    }
   ],
   "source": [
    "print('The size of momt is',  momt.size,'.')\n",
    "print('Given that we have', n, 'particles, we must have', momt.size/n, 'points in time.')\n",
    "print('The dim of momt is', momt.ndim,'.')\n",
    "print('The shape of momt is',momt.shape,'.')\n",
    "print('The size of momt is',momt.size,'.')"
   ]
  },
  {
   "cell_type": "code",
   "execution_count": 50,
   "metadata": {
    "collapsed": true
   },
   "outputs": [
    {
     "name": "stdout",
     "output_type": "stream",
     "text": [
      "[[ 12  17  13  25   4]\n",
      " [ 11  16  10   5  41]\n",
      " [  2   7 123   5  24]]\n",
      "\n",
      "\n",
      "[[  144   289   169   625    16]\n",
      " [  121   256   100    25  1681]\n",
      " [    4    49 15129    25   576]]\n",
      "\n",
      "\n"
     ]
    },
    {
     "data": {
      "text/plain": [
       "19209"
      ]
     },
     "execution_count": 50,
     "metadata": {},
     "output_type": "execute_result"
    }
   ],
   "source": [
    "print(momt)\n",
    "np.sum(np.sum(momt, axis=0),axis=0)\n",
    "sum(sum(momt))\n",
    "print()\n",
    "print()\n",
    "print(momt*momt)\n",
    "print()\n",
    "print()\n",
    "sum(sum(momt*momt))"
   ]
  },
  {
   "cell_type": "code",
   "execution_count": 142,
   "metadata": {
    "collapsed": true
   },
   "outputs": [
    {
     "name": "stdout",
     "output_type": "stream",
     "text": [
      "i= 0\n",
      "j= 1\n",
      "j= 2\n",
      "j= 3\n",
      "j= 4\n",
      "i= 1\n",
      "j= 2\n",
      "j= 3\n",
      "j= 4\n",
      "i= 2\n",
      "j= 3\n",
      "j= 4\n",
      "i= 3\n",
      "j= 4\n",
      "i= 4\n",
      "[[ 0.35]\n",
      " [ 0.45]\n",
      " [ 0.65]\n",
      " [ 1.1 ]\n",
      " [ 0.63]\n",
      " [ 0.91]\n",
      " [ 1.54]\n",
      " [ 1.17]\n",
      " [ 1.98]\n",
      " [ 2.86]]\n"
     ]
    }
   ],
   "source": [
    "test = np.array([0.5,0.7,0.9,1.3,2.2])\n",
    "a = test.shape[0]\n",
    "semifac = np.zeros((int(scipy.special.comb(a,2)),1))\n",
    "k=0;\n",
    "#print(a)\n",
    "for i in range(0,a):\n",
    "    print('i=',i)\n",
    "    for j in range(i,a):\n",
    "        if i != j:\n",
    "            semifac[k] = test[i]*test[j]\n",
    "            k=k+1\n",
    "            print('j=',j)\n",
    "print(semifac)"
   ]
  },
  {
   "cell_type": "code",
   "execution_count": 112,
   "metadata": {},
   "outputs": [
    {
     "name": "stdout",
     "output_type": "stream",
     "text": [
      "Once deleted, variables cannot be recovered. Proceed (y/[n])? y\n",
      "[ 0.5  0.7  0.9  1.3  2.2]\n",
      "<class 'numpy.ndarray'>\n",
      "\n",
      "(-1, 0, 1)\n",
      "<class 'tuple'>\n",
      "\n",
      "<class 'numpy.ndarray'>\n",
      "[ 0.  0.  0.  0.  0.  0.  0.  0.  0.  0.]\n",
      "\n",
      "<class 'numpy.ndarray'>\n",
      "u_1 =  [-0.22274132 -0.11517173 -0.02853676 -0.00257451 -0.22274132 -0.05605193\n",
      " -0.00407922 -0.11517173 -0.00670949 -0.02080403]\n",
      "\n"
     ]
    }
   ],
   "source": [
    "%reset\n",
    "import numpy as np\n",
    "import scipy.special\n",
    "\n",
    "position = np.array([0.5,0.7,0.9,1.3,2.2])\n",
    "N=5;\n",
    "sigma=1;\n",
    "L=1;\n",
    "eps=0.25;\n",
    "\n",
    "alphas = (-1, 0, 1)\n",
    "\n",
    "#We have three values in alpha, so we must calculate potentials three times\n",
    "distance = np.zeros( (int(scipy.special.comb(N,2)),1) )\n",
    "u_1 = np.zeros( (int(scipy.special.comb(N,2))) )\n",
    "u_2 = np.zeros( (int(scipy.special.comb(N,2))) )\n",
    "u_3 = np.zeros( (int(scipy.special.comb(N,2))) )\n",
    "\n",
    "print(position)\n",
    "print(type(position))\n",
    "print()\n",
    "\n",
    "print(alphas)\n",
    "print(type(alphas))\n",
    "print()\n",
    "\n",
    "print(type(u_1))\n",
    "print(u_1)\n",
    "print()\n",
    "\n",
    "k=0\n",
    "for i in range(0,N):\n",
    "    for j in range(i,N):\n",
    "        if i != j:\n",
    "            distance[k] = abs(position[j] - position[i]) - L*alphas[0]\n",
    "            u_1[k] = 4*eps*((sigma/distance[k][0])**12 - (sigma/distance[k][0])**6)\n",
    "            k=k+1\n",
    "            \n",
    "k=0\n",
    "for i in range(0,N):\n",
    "    for j in range(i,N):\n",
    "        if i != j:\n",
    "            distance[k] = abs(position[j] - position[i]) - L*alphas[1]\n",
    "            u_2[k] = 4*eps*((sigma/distance[k][0])**12 - (sigma/distance[k][0])**6)\n",
    "            k=k+1\n",
    "            \n",
    "k=0\n",
    "for i in range(0,N):\n",
    "    for j in range(i,N):\n",
    "        if i != j:\n",
    "            distance[k] = abs(position[j] - position[i]) - L*alphas[2]\n",
    "            u_3[k] = 4*eps*((sigma/distance[k][0])**12 - (sigma/distance[k][0])**6)\n",
    "            k=k+1\n",
    "            \n",
    "print(type(u_1))\n",
    "print('u_1 = ',u_1)\n",
    "print()\n",
    "\n"
   ]
  },
  {
   "cell_type": "code",
   "execution_count": 42,
   "metadata": {},
   "outputs": [
    {
     "name": "stdout",
     "output_type": "stream",
     "text": [
      "Once deleted, variables cannot be recovered. Proceed (y/[n])? y\n",
      "(1, 2, 30)\n",
      "2\n",
      "<class 'tuple'>\n",
      "<class 'int'>\n",
      "\n",
      "(21, 22, 23)\n",
      "\n",
      "\n",
      "((1, 2, 30), (21, 22, 23))\n",
      "<class 'tuple'>\n",
      "(21, 22, 23)\n",
      "22\n",
      "\n",
      "(1, 2, 30, 21, 22, 23)\n",
      "<class 'tuple'>\n",
      "2\n"
     ]
    }
   ],
   "source": [
    "%reset\n",
    "import numpy as np\n",
    "\n",
    "\n",
    "e1 = 1,2,30\n",
    "print(e1)\n",
    "print(e1[1])\n",
    "print(type(e1))\n",
    "print(type(e1[1]))\n",
    "print()\n",
    "e2 = 21, 22, 23\n",
    "print(e2)\n",
    "print()\n",
    "print()\n",
    "\n",
    "e = ((e1, e2))\n",
    "print(e)\n",
    "print(type(e))\n",
    "print(e[1])\n",
    "print(e[1][1])\n",
    "print()\n",
    "\n",
    "et = e1 + e2\n",
    "print(et)\n",
    "print(type(et))\n",
    "print(et[1])"
   ]
  },
  {
   "cell_type": "code",
   "execution_count": 109,
   "metadata": {},
   "outputs": [
    {
     "name": "stdout",
     "output_type": "stream",
     "text": [
      "Once deleted, variables cannot be recovered. Proceed (y/[n])? y\n",
      "(0, 2)\n",
      "\n",
      "[3, 3, 3, 3]\n",
      "<class 'list'>\n",
      "(4, 'e')\n",
      "<class 'tuple'>\n",
      "(4, 'e')\n",
      "[4, 'e']\n",
      "<class 'list'>\n",
      "[4, 'r']\n",
      "(4, 'r')\n",
      "<class 'tuple'>\n"
     ]
    }
   ],
   "source": [
    "%reset\n",
    "import numpy as np\n",
    "\n",
    "u = (0,1,2,3,4,5)\n",
    "print(u[0:4:2])\n",
    "print()\n",
    "b=[0,0,0,0]\n",
    "b[0:4] = [3,3,3,3]\n",
    "print(b)\n",
    "print(type(b))\n",
    "\n",
    "d = (4,'e')\n",
    "print(d)\n",
    "print(type(d))\n",
    "\n",
    "print(d[0:2])\n",
    "d=list(d)\n",
    "print(d)\n",
    "print(type(d))\n",
    "d[1] = 'r'\n",
    "print(d)\n",
    "d = tuple(d)\n",
    "print(d)\n",
    "print(type(d))"
   ]
  },
  {
   "cell_type": "code",
   "execution_count": 126,
   "metadata": {},
   "outputs": [
    {
     "name": "stdout",
     "output_type": "stream",
     "text": [
      "Once deleted, variables cannot be recovered. Proceed (y/[n])? y\n",
      "[[ 0.5  0.7  0.9  1.3  2.2]\n",
      " [ 3.   4.   5.   6.   7. ]\n",
      " [ 0.   0.   0.   0.   0. ]]\n",
      "\n",
      "0.5\n"
     ]
    }
   ],
   "source": [
    "%reset\n",
    "import numpy as np\n",
    "import scipy.special\n",
    "\n",
    "position = np.array([[0.5,0.7,0.9,1.3,2.2],[3,4,5,6,7],[0,0,0,0,0]])\n",
    "print(position)\n",
    "print()\n",
    "print(position[0,0])\n"
   ]
  }
 ],
 "metadata": {
  "kernelspec": {
   "display_name": "Python 3",
   "language": "python",
   "name": "python3"
  },
  "language_info": {
   "codemirror_mode": {
    "name": "ipython",
    "version": 3
   },
   "file_extension": ".py",
   "mimetype": "text/x-python",
   "name": "python",
   "nbconvert_exporter": "python",
   "pygments_lexer": "ipython3",
   "version": "3.6.1"
  }
 },
 "nbformat": 4,
 "nbformat_minor": 2
}
