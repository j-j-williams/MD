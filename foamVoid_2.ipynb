{
 "cells": [
  {
   "cell_type": "code",
   "execution_count": 9,
   "metadata": {
    "collapsed": false
   },
   "outputs": [],
   "source": [
    "%matplotlib inline\n",
    "\n",
    "import matplotlib.pyplot as plt\n",
    "import numpy as np\n",
    "import time\n",
    "from scipy.optimize import fsolve\n",
    "import csv\n",
    "import sm_v2 as sm"
   ]
  },
  {
   "cell_type": "markdown",
   "metadata": {},
   "source": [
    "# Background information to set the assumptions"
   ]
  },
  {
   "cell_type": "markdown",
   "metadata": {},
   "source": [
    "This notebook examines some basic assumptions about the MARBLE experiment.  In particular we will look at the yeild integrated over time for the foam only capsules with no gas and then foam plus $H_2$ gas as the baseline for hydrodynamics and compression.  The integrated code appears to be able to match this data."
   ]
  },
  {
   "cell_type": "markdown",
   "metadata": {},
   "source": [
    "We will begin by specifying the foam density.  The foam is is $CD_{0.5}H_{0.5}$ so the mass per gram is roughly (13+14)/2 = 13.5 g/mole.  So given the mass density $\\rho$ [$g/cm^3$] we can get the particle density of the foam as $\\rho/13.5$ [$mole/cm^3$].  Therefore the particle density is $\\rho/13.5*Av$"
   ]
  },
  {
   "cell_type": "code",
   "execution_count": 10,
   "metadata": {
    "collapsed": true
   },
   "outputs": [],
   "source": [
    "def foam(rho):\n",
    "    Av = 6.0221e23          # Avogadros number, particles/mole\n",
    "                            # rho is in g/cm^3  -- this should be the number for the real foam density\n",
    "    mole_foam = rho/13.5    # moles/cm^3\n",
    "    n_foam = mole_foam*Av   # particles/cm^3\n",
    "    return n_foam"
   ]
  },
  {
   "cell_type": "markdown",
   "metadata": {},
   "source": [
    "Now we want to calculate the density of the particles for a given pressure of gas.  The particle number density at STP is given by Loschmidts number Lo.  As the pressure goes up the particle density is linear.  So for a given fill pressure P[atm] the number density will be P*Lo.  However, if you have a molecular gas then you count the molecules not the individual atoms so if it is diatomic like $H_2$ then the atomic particle density must be multiplied by 2."
   ]
  },
  {
   "cell_type": "code",
   "execution_count": 11,
   "metadata": {
    "collapsed": true
   },
   "outputs": [],
   "source": [
    "def gas(P):\n",
    "    Lo = 2.6868e19          # particles/cm^3\n",
    "                            # P is in atm -- this should be based on the experimental pressure.\n",
    "    n_H2 = 2.0*P*Lo         # H atoms/cm^3 at P[atm]\n",
    "    n_D2 = 2.0*P*Lo         # D atoms/cm^3 at P[atm]\n",
    "    n_T2 = 2.0*P*Lo         # T atoms/cm^3 at P[atm]\n",
    "    return n_H2, n_D2, n_T2"
   ]
  },
  {
   "cell_type": "markdown",
   "metadata": {},
   "source": [
    "# Lets get some plasma parameters"
   ]
  },
  {
   "cell_type": "code",
   "execution_count": 55,
   "metadata": {
    "collapsed": true
   },
   "outputs": [],
   "source": [
    "f_void = 0.5            # start with 50% void at fill time\n",
    "r      = 0.05           # cm Initial radius of capusle, only used to get absolute numbers\n",
    "P      = 30.0           # atm  Fill pressure\n",
    "rho    = 0.1            # g/cm^3  Foam density at t=0\n",
    "T  = 200               # in electron volts"
   ]
  },
  {
   "cell_type": "code",
   "execution_count": 56,
   "metadata": {
    "collapsed": true
   },
   "outputs": [],
   "source": [
    "# calculate the volume\n",
    "v_gas  = 4./3.*np.pi*r**3*f_void         # cm^3\n",
    "v_foam  = 4./3.*np.pi*r**3*(1.0-f_void)  # cm^3\n",
    "# get the foam and gas particle density\n",
    "n_foam = foam(rho)        # atoms/cm^3\n",
    "n_H2, n_D2, n_T2 = gas(P) # atoms/cm^3\n",
    "# now get the number of atoms in each the gas and the foam\n",
    "n_f = n_foam*v_foam\n",
    "n_g = n_D2*v_gas"
   ]
  },
  {
   "cell_type": "code",
   "execution_count": 57,
   "metadata": {
    "collapsed": false
   },
   "outputs": [],
   "source": [
    "na = n_f\n",
    "vb = 0.4\n",
    "nb = na\n",
    "za = 6\n",
    "zb = 1\n",
    "\n",
    "def equations(v2):\n",
    "    n1 = na\n",
    "    n2 = na\n",
    "    z1 = 6\n",
    "    z2 = 1\n",
    "    #    z1,z2,T,n1,n2 = params\n",
    "    zb1 = sm.zbar_n(n1,z1,T)\n",
    "    zb2 = sm.zbar_n(n2,z2,T)\n",
    "    return (v2*(n1*zb1/zb2+n2)-1.)\n",
    "\n",
    "v2 = fsolve(equations,vb)\n",
    "zb1 = sm.zbar_n(na,za,T)\n",
    "zb2 = sm.zbar_n(nb,zb,T)\n",
    "v1 = v2[0]*zb1/zb2\n",
    "\n",
    "n1 = 1./v1\n",
    "n2 = 1./v2[0]\n",
    "nd = n2\n",
    "nc = n1\n",
    "\n",
    "ld = sm.lambdaI(T,n2,zb2)\n",
    "lc = sm.lambdaI(T,n1,zb1)\n",
    "gamd = sm.gamma(T,n2,zb2)\n",
    "gamc = sm.gamma(T,n1,zb1)\n",
    "\n",
    "ne = zb1*n1 + zb2*n2"
   ]
  },
  {
   "cell_type": "code",
   "execution_count": 58,
   "metadata": {
    "collapsed": false,
    "scrolled": true
   },
   "outputs": [
    {
     "name": "stdout",
     "output_type": "stream",
     "text": [
      "Temperature T[eV]=  200 z_carbon=  5.96061453177 ,z_d=  0.999480782195\n",
      "number denstiy [1/cm^3] of Carbon and D, n_c=  1.36366272936e+18 ,n_d=  8.13249041487e+18\n",
      "number denstiy of electrons [1/cm^3], n_e=  1.62565357621e+19\n",
      "Coupling Constant $\\gamma$ of Carbon and D, G_c=  0.0457273109203 ,G_d=  0.00233156761214\n"
     ]
    }
   ],
   "source": [
    "print(\"Temperature T[eV]= \",T, \"z_carbon= \", zb1,\",z_d= \",zb2)\n",
    "print(\"number denstiy [1/cm^3] of Carbon and D, n_c= \",n1,\",n_d= \", n2)\n",
    "print(\"number denstiy of electrons [1/cm^3], n_e= \",ne)\n",
    "print(\"Coupling Constant $\\gamma$ of Carbon and D, G_c= \",gamc,\",G_d= \", gamd)"
   ]
  },
  {
   "cell_type": "code",
   "execution_count": 59,
   "metadata": {
    "collapsed": false
   },
   "outputs": [],
   "source": [
    "lel = sm.lambdaTF(T,ne)\n",
    "lec = sm.lambdaI(T,n1,zb1)\n",
    "led = sm.lambdaI(T,n2,zb2)\n",
    "lam = sm.lambdaTots(lel,lec,gamc,led,gamd)\n",
    "kappa = sm.kappa(T,ne)"
   ]
  },
  {
   "cell_type": "code",
   "execution_count": 60,
   "metadata": {
    "collapsed": false
   },
   "outputs": [
    {
     "name": "stdout",
     "output_type": "stream",
     "text": [
      "elecron lambda[cm]=  2.60745528446e-06  carbon lambda[cm]=  1.51038042341e-06  deuterium lambda[cm]=  3.68845630137e-06\n",
      "Total lambda[cm]=  1.28506080268e-06  kappa=  0.0939170104162\n"
     ]
    }
   ],
   "source": [
    "print(\"elecron lambda[cm]= \",lel,\" carbon lambda[cm]= \",lc,\" deuterium lambda[cm]= \", ld)\n",
    "print(\"Total lambda[cm]= \", lam,\" kappa= \",kappa)"
   ]
  },
  {
   "cell_type": "code",
   "execution_count": 61,
   "metadata": {
    "collapsed": false
   },
   "outputs": [],
   "source": [
    "AMU = 1.6605e-24            # atomic mass unit\n",
    "md = 2*AMU\n",
    "mc = 12*AMU\n",
    "mu = sm.muij(mc,md)  \n",
    "\n",
    "erg_to_ev = 6.2451e11       #eV / (g cm^2 / s^2)\n",
    "\n",
    "lambdaTot = lam\n",
    "\n",
    "omega11 = sm.omegaij(1,1,zb1,zb2,T,lambdaTot,mu) #cm^3/g on all of these\n",
    "omega12 = sm.omegaij(1,2,zb1,zb2,T,lambdaTot,mu)\n",
    "omega13 = sm.omegaij(1,3,zb1,zb2,T,lambdaTot,mu)\n",
    "omega22 = sm.omegaij(2,2,zb1,zb2,T,lambdaTot,mu)\n",
    "omegadd = sm.omegaij(2,2,zb2,zb2,T,lambdaTot,md)\n",
    "omegacc = sm.omegaij(2,2,zb1,zb1,T,lambdaTot,mc)\n",
    "\n",
    "etad = 5.*T/8./omegadd/erg_to_ev           #g / (cm s)\n",
    "etac = 5.*T/8./omegacc/erg_to_ev\n",
    "Md = md/(md+mc)                            #unitless\n",
    "Mc = mc/(md+mc)                \n",
    "xc = nc/(nc+nd)               \n",
    "xd = nd/(nc+nd)\n",
    "A = omega22/5./omega11                     #unitless\n",
    "B = (5*omega12 - omega13)/5./omega11       #unitness\n",
    "C = 2.*omega12/5./omega11 - 1.             #unitless\n",
    "ep = T/(8.*Md*Mc*omega11)/erg_to_ev        #g / (cm s) \n",
    "Pd = Md*ep/etad                            #unitless\n",
    "Pc = Mc*ep/etac                            #unitless\n",
    "Pdc = 3*(Md-Mc)**2 + 4.*Md*Mc*A            #unitless\n",
    "Qc = Pc*(6*Md*Md+5*Mc*Mc-4*B*Mc*Mc+8*Mc*Md*A)   #unitless\n",
    "Qd = Pd*(6*Mc*Mc+5*Md*Md-4*B*Md*Md+8*Mc*Md*A)   #unitless\n",
    "Qcd_p = (15*ep*(Pc+Pd+(11-4*B-8*A)*Mc*Md))/(2*(mc+md)) # 1/(cm s)\n",
    "Qcd = 2*Pc*Pd+3*(Mc-Md)**2*(5-4*B)+4*Mc*Md*A*(11-4*B)  #unitless  --- TYPO\n",
    "Rc = 2./3.+Mc/Md*A                         #unitless\n",
    "Rd = 2./3.+Md/Mc*A                         #unitless \n",
    "Rcd = 4*A/(3*Mc*Md*ep) + ep/(2*etad*etac)  #(cm s)/g\n",
    "Rcd_p = 4./3.+ep/(2*etac)+ep/(2*etad)-2*A  #unitless\n",
    "Sc = Mc*Pc-Md*(3*(Md-Mc)+4*Mc*A)           #unitless\n",
    "Sd = Md*Pd-Mc*(3*(Mc-Md)+4*Md*A)           #unitless\n",
    "Kc = 75*T/(32*mc*omegacc)/erg_to_ev #1/(s cm) \n",
    "Kd = 75*T/(32*md*omegadd)/erg_to_ev"
   ]
  },
  {
   "cell_type": "code",
   "execution_count": 62,
   "metadata": {
    "collapsed": false
   },
   "outputs": [],
   "source": [
    "Dcd = 3*T/(16*(nd+nc)*mu*omega11)/erg_to_ev     #cm^2/s\n",
    "eta = (xc*xc*Rc+xd*xd*Rd+xc*xd*Rcd_p)/(xc*xc*Rc/etac+xd*xd*Rd/etad+xc*xd*Rcd) #g / (cm s)\n",
    "Ktot = (xc*xc*Qc*Kc+xd*xd*Qd*Kd+xc*xd*Qcd_p)/(xc*xc*Qc+xd*xd*Qd+xc*xd*Qcd) # 1 / (cm s)\n",
    "KT = (5*xc*xd*C*(xc*Sc-xd*Sd))/(xc*xc*Qc+xd*xd*Qd+xc*xd*Qcd)               #unitless"
   ]
  },
  {
   "cell_type": "code",
   "execution_count": 63,
   "metadata": {
    "collapsed": false
   },
   "outputs": [
    {
     "name": "stdout",
     "output_type": "stream",
     "text": [
      "Diffusion =  3410.84231062\n",
      "viscocity =  0.429705657497\n",
      "Conduction =  4.05203019618e+23\n",
      "K_T =  -0.786783971194\n"
     ]
    }
   ],
   "source": [
    "print(\"Diffusion = \",Dcd)\n",
    "print(\"viscocity = \", eta)\n",
    "print(\"Conduction = \", Ktot)\n",
    "print(\"K_T = \", KT)"
   ]
  },
  {
   "cell_type": "code",
   "execution_count": 64,
   "metadata": {
    "collapsed": false
   },
   "outputs": [
    {
     "name": "stdout",
     "output_type": "stream",
     "text": [
      "eta_dd =  4.1103745817\n",
      "eta_cc =  0.0149159744158\n",
      "Kc =  2.80713158985e+21\n",
      "Kd =  4.64134437862e+24\n"
     ]
    }
   ],
   "source": [
    "print(\"eta_dd = \",etad)\n",
    "print(\"eta_cc = \",etac)\n",
    "print(\"Kc = \", Kc)\n",
    "print(\"Kd = \", Kd)"
   ]
  },
  {
   "cell_type": "code",
   "execution_count": null,
   "metadata": {
    "collapsed": true
   },
   "outputs": [],
   "source": []
  },
  {
   "cell_type": "code",
   "execution_count": null,
   "metadata": {
    "collapsed": true
   },
   "outputs": [],
   "source": []
  },
  {
   "cell_type": "code",
   "execution_count": null,
   "metadata": {
    "collapsed": true
   },
   "outputs": [],
   "source": []
  },
  {
   "cell_type": "code",
   "execution_count": null,
   "metadata": {
    "collapsed": true
   },
   "outputs": [],
   "source": []
  }
 ],
 "metadata": {
  "anaconda-cloud": {},
  "kernelspec": {
   "display_name": "Python [conda root]",
   "language": "python",
   "name": "conda-root-py"
  },
  "language_info": {
   "codemirror_mode": {
    "name": "ipython",
    "version": 3
   },
   "file_extension": ".py",
   "mimetype": "text/x-python",
   "name": "python",
   "nbconvert_exporter": "python",
   "pygments_lexer": "ipython3",
   "version": "3.5.2"
  }
 },
 "nbformat": 4,
 "nbformat_minor": 0
}
